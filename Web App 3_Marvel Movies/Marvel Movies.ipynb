{
 "cells": [
  {
   "cell_type": "code",
   "execution_count": 135,
   "id": "c294ace7",
   "metadata": {},
   "outputs": [],
   "source": [
    "import pandas as pd\n",
    "from datetime import datetime\n",
    "from pytz import utc\n",
    "import matplotlib.pyplot as plt"
   ]
  },
  {
   "cell_type": "code",
   "execution_count": 137,
   "id": "da29956c",
   "metadata": {},
   "outputs": [
    {
     "data": {
      "text/plain": [
       "Index(['Title', 'Distributor', 'ReleaseDateUS', 'Budget',\n",
       "       'OpeningWeekendNorthAmerica', 'NorthAmerica', 'OtherTerritories',\n",
       "       'Worldwide'],\n",
       "      dtype='object')"
      ]
     },
     "execution_count": 137,
     "metadata": {},
     "output_type": "execute_result"
    }
   ],
   "source": [
    "data = pandas.read_csv('marvel_clean.csv')\n",
    "data.columns"
   ]
  },
  {
   "cell_type": "code",
   "execution_count": 139,
   "id": "b4ff7d93",
   "metadata": {},
   "outputs": [
    {
     "data": {
      "text/html": [
       "<div>\n",
       "<style scoped>\n",
       "    .dataframe tbody tr th:only-of-type {\n",
       "        vertical-align: middle;\n",
       "    }\n",
       "\n",
       "    .dataframe tbody tr th {\n",
       "        vertical-align: top;\n",
       "    }\n",
       "\n",
       "    .dataframe thead th {\n",
       "        text-align: right;\n",
       "    }\n",
       "</style>\n",
       "<table border=\"1\" class=\"dataframe\">\n",
       "  <thead>\n",
       "    <tr style=\"text-align: right;\">\n",
       "      <th></th>\n",
       "      <th>Title</th>\n",
       "      <th>Distributor</th>\n",
       "      <th>ReleaseDateUS</th>\n",
       "      <th>Budget</th>\n",
       "      <th>OpeningWeekendNorthAmerica</th>\n",
       "      <th>NorthAmerica</th>\n",
       "      <th>OtherTerritories</th>\n",
       "      <th>Worldwide</th>\n",
       "    </tr>\n",
       "  </thead>\n",
       "  <tbody>\n",
       "    <tr>\n",
       "      <th>0</th>\n",
       "      <td>Howard the Duck</td>\n",
       "      <td>Universal Pictures</td>\n",
       "      <td>8/1/1986</td>\n",
       "      <td>37000000</td>\n",
       "      <td>5070136</td>\n",
       "      <td>16295774</td>\n",
       "      <td>21667000</td>\n",
       "      <td>37962774</td>\n",
       "    </tr>\n",
       "    <tr>\n",
       "      <th>1</th>\n",
       "      <td>Blade</td>\n",
       "      <td>New Line Cinema</td>\n",
       "      <td>8/21/1998</td>\n",
       "      <td>45000000</td>\n",
       "      <td>17073856</td>\n",
       "      <td>70087718</td>\n",
       "      <td>61095812</td>\n",
       "      <td>131183530</td>\n",
       "    </tr>\n",
       "    <tr>\n",
       "      <th>2</th>\n",
       "      <td>X-Men</td>\n",
       "      <td>20th Century Fox</td>\n",
       "      <td>7/14/2000</td>\n",
       "      <td>75000000</td>\n",
       "      <td>54471475</td>\n",
       "      <td>157299717</td>\n",
       "      <td>139039810</td>\n",
       "      <td>296339527</td>\n",
       "    </tr>\n",
       "    <tr>\n",
       "      <th>3</th>\n",
       "      <td>Blade II</td>\n",
       "      <td>New Line Cinema</td>\n",
       "      <td>3/22/2002</td>\n",
       "      <td>54000000</td>\n",
       "      <td>32528016</td>\n",
       "      <td>82348319</td>\n",
       "      <td>72661713</td>\n",
       "      <td>155010032</td>\n",
       "    </tr>\n",
       "    <tr>\n",
       "      <th>4</th>\n",
       "      <td>Spider-Man</td>\n",
       "      <td>Sony Pictures</td>\n",
       "      <td>5/3/2002</td>\n",
       "      <td>139000000</td>\n",
       "      <td>114844116</td>\n",
       "      <td>403706375</td>\n",
       "      <td>418002176</td>\n",
       "      <td>821708551</td>\n",
       "    </tr>\n",
       "    <tr>\n",
       "      <th>...</th>\n",
       "      <td>...</td>\n",
       "      <td>...</td>\n",
       "      <td>...</td>\n",
       "      <td>...</td>\n",
       "      <td>...</td>\n",
       "      <td>...</td>\n",
       "      <td>...</td>\n",
       "      <td>...</td>\n",
       "    </tr>\n",
       "    <tr>\n",
       "      <th>59</th>\n",
       "      <td>Black Widow</td>\n",
       "      <td>Walt Disney Studios Motion Pictures</td>\n",
       "      <td>7/9/2021</td>\n",
       "      <td>200000000</td>\n",
       "      <td>80366312</td>\n",
       "      <td>183651665</td>\n",
       "      <td>195979696</td>\n",
       "      <td>379631351</td>\n",
       "    </tr>\n",
       "    <tr>\n",
       "      <th>60</th>\n",
       "      <td>Shang-Chi and the Legend of the Ten Rings</td>\n",
       "      <td>Walt Disney Studios Motion Pictures</td>\n",
       "      <td>9/3/2021</td>\n",
       "      <td>150000000</td>\n",
       "      <td>75388688</td>\n",
       "      <td>224543292</td>\n",
       "      <td>207700000</td>\n",
       "      <td>432243292</td>\n",
       "    </tr>\n",
       "    <tr>\n",
       "      <th>61</th>\n",
       "      <td>Venom: Let There Be Carnage</td>\n",
       "      <td>Sony Pictures</td>\n",
       "      <td>10/1/2021</td>\n",
       "      <td>110000000</td>\n",
       "      <td>90033210</td>\n",
       "      <td>213550366</td>\n",
       "      <td>288500000</td>\n",
       "      <td>502050366</td>\n",
       "    </tr>\n",
       "    <tr>\n",
       "      <th>62</th>\n",
       "      <td>Eternals</td>\n",
       "      <td>Walt Disney Studios Motion Pictures</td>\n",
       "      <td>11/5/2021</td>\n",
       "      <td>200000000</td>\n",
       "      <td>85021497</td>\n",
       "      <td>164870234</td>\n",
       "      <td>237194665</td>\n",
       "      <td>402064899</td>\n",
       "    </tr>\n",
       "    <tr>\n",
       "      <th>63</th>\n",
       "      <td>Spider-Man: No Way Home</td>\n",
       "      <td>Sony Pictures</td>\n",
       "      <td>12/17/2021</td>\n",
       "      <td>200000000</td>\n",
       "      <td>260138569</td>\n",
       "      <td>780418859</td>\n",
       "      <td>1072000000</td>\n",
       "      <td>1852418859</td>\n",
       "    </tr>\n",
       "  </tbody>\n",
       "</table>\n",
       "<p>64 rows × 8 columns</p>\n",
       "</div>"
      ],
      "text/plain": [
       "                                        Title  \\\n",
       "0                             Howard the Duck   \n",
       "1                                       Blade   \n",
       "2                                       X-Men   \n",
       "3                                    Blade II   \n",
       "4                                  Spider-Man   \n",
       "..                                        ...   \n",
       "59                                Black Widow   \n",
       "60  Shang-Chi and the Legend of the Ten Rings   \n",
       "61                Venom: Let There Be Carnage   \n",
       "62                                   Eternals   \n",
       "63                    Spider-Man: No Way Home   \n",
       "\n",
       "                            Distributor ReleaseDateUS     Budget  \\\n",
       "0                    Universal Pictures      8/1/1986   37000000   \n",
       "1                       New Line Cinema     8/21/1998   45000000   \n",
       "2                      20th Century Fox     7/14/2000   75000000   \n",
       "3                       New Line Cinema     3/22/2002   54000000   \n",
       "4                         Sony Pictures      5/3/2002  139000000   \n",
       "..                                  ...           ...        ...   \n",
       "59  Walt Disney Studios Motion Pictures      7/9/2021  200000000   \n",
       "60  Walt Disney Studios Motion Pictures      9/3/2021  150000000   \n",
       "61                        Sony Pictures     10/1/2021  110000000   \n",
       "62  Walt Disney Studios Motion Pictures     11/5/2021  200000000   \n",
       "63                        Sony Pictures    12/17/2021  200000000   \n",
       "\n",
       "    OpeningWeekendNorthAmerica  NorthAmerica  OtherTerritories   Worldwide  \n",
       "0                      5070136      16295774          21667000    37962774  \n",
       "1                     17073856      70087718          61095812   131183530  \n",
       "2                     54471475     157299717         139039810   296339527  \n",
       "3                     32528016      82348319          72661713   155010032  \n",
       "4                    114844116     403706375         418002176   821708551  \n",
       "..                         ...           ...               ...         ...  \n",
       "59                    80366312     183651665         195979696   379631351  \n",
       "60                    75388688     224543292         207700000   432243292  \n",
       "61                    90033210     213550366         288500000   502050366  \n",
       "62                    85021497     164870234         237194665   402064899  \n",
       "63                   260138569     780418859        1072000000  1852418859  \n",
       "\n",
       "[64 rows x 8 columns]"
      ]
     },
     "execution_count": 139,
     "metadata": {},
     "output_type": "execute_result"
    }
   ],
   "source": [
    "data"
   ]
  },
  {
   "cell_type": "markdown",
   "id": "b9b134b8",
   "metadata": {},
   "source": [
    "## Release of Marvel Movies"
   ]
  },
  {
   "cell_type": "code",
   "execution_count": 138,
   "id": "3ec14e44",
   "metadata": {},
   "outputs": [
    {
     "ename": "AttributeError",
     "evalue": "Can only use .dt accessor with datetimelike values",
     "output_type": "error",
     "traceback": [
      "\u001b[1;31m---------------------------------------------------------------------------\u001b[0m",
      "\u001b[1;31mAttributeError\u001b[0m                            Traceback (most recent call last)",
      "Input \u001b[1;32mIn [138]\u001b[0m, in \u001b[0;36m<module>\u001b[1;34m\u001b[0m\n\u001b[1;32m----> 1\u001b[0m data[\u001b[38;5;124m'\u001b[39m\u001b[38;5;124mRelease Date\u001b[39m\u001b[38;5;124m'\u001b[39m] \u001b[38;5;241m=\u001b[39m \u001b[43mdata\u001b[49m\u001b[43m[\u001b[49m\u001b[38;5;124;43m'\u001b[39;49m\u001b[38;5;124;43mReleaseDateUS\u001b[39;49m\u001b[38;5;124;43m'\u001b[39;49m\u001b[43m]\u001b[49m\u001b[38;5;241;43m.\u001b[39;49m\u001b[43mdt\u001b[49m\u001b[38;5;241m.\u001b[39mstrftime(\u001b[38;5;124m'\u001b[39m\u001b[38;5;124m%\u001b[39m\u001b[38;5;124mY-\u001b[39m\u001b[38;5;124m%\u001b[39m\u001b[38;5;124mm-\u001b[39m\u001b[38;5;132;01m%d\u001b[39;00m\u001b[38;5;124m'\u001b[39m)\n",
      "File \u001b[1;32m~\\AppData\\Local\\Programs\\Python\\Python39\\lib\\site-packages\\pandas\\core\\generic.py:5487\u001b[0m, in \u001b[0;36mNDFrame.__getattr__\u001b[1;34m(self, name)\u001b[0m\n\u001b[0;32m   5480\u001b[0m \u001b[38;5;28;01mif\u001b[39;00m (\n\u001b[0;32m   5481\u001b[0m     name \u001b[38;5;129;01mnot\u001b[39;00m \u001b[38;5;129;01min\u001b[39;00m \u001b[38;5;28mself\u001b[39m\u001b[38;5;241m.\u001b[39m_internal_names_set\n\u001b[0;32m   5482\u001b[0m     \u001b[38;5;129;01mand\u001b[39;00m name \u001b[38;5;129;01mnot\u001b[39;00m \u001b[38;5;129;01min\u001b[39;00m \u001b[38;5;28mself\u001b[39m\u001b[38;5;241m.\u001b[39m_metadata\n\u001b[0;32m   5483\u001b[0m     \u001b[38;5;129;01mand\u001b[39;00m name \u001b[38;5;129;01mnot\u001b[39;00m \u001b[38;5;129;01min\u001b[39;00m \u001b[38;5;28mself\u001b[39m\u001b[38;5;241m.\u001b[39m_accessors\n\u001b[0;32m   5484\u001b[0m     \u001b[38;5;129;01mand\u001b[39;00m \u001b[38;5;28mself\u001b[39m\u001b[38;5;241m.\u001b[39m_info_axis\u001b[38;5;241m.\u001b[39m_can_hold_identifiers_and_holds_name(name)\n\u001b[0;32m   5485\u001b[0m ):\n\u001b[0;32m   5486\u001b[0m     \u001b[38;5;28;01mreturn\u001b[39;00m \u001b[38;5;28mself\u001b[39m[name]\n\u001b[1;32m-> 5487\u001b[0m \u001b[38;5;28;01mreturn\u001b[39;00m \u001b[38;5;28;43mobject\u001b[39;49m\u001b[38;5;241;43m.\u001b[39;49m\u001b[38;5;21;43m__getattribute__\u001b[39;49m\u001b[43m(\u001b[49m\u001b[38;5;28;43mself\u001b[39;49m\u001b[43m,\u001b[49m\u001b[43m \u001b[49m\u001b[43mname\u001b[49m\u001b[43m)\u001b[49m\n",
      "File \u001b[1;32m~\\AppData\\Local\\Programs\\Python\\Python39\\lib\\site-packages\\pandas\\core\\accessor.py:181\u001b[0m, in \u001b[0;36mCachedAccessor.__get__\u001b[1;34m(self, obj, cls)\u001b[0m\n\u001b[0;32m    178\u001b[0m \u001b[38;5;28;01mif\u001b[39;00m obj \u001b[38;5;129;01mis\u001b[39;00m \u001b[38;5;28;01mNone\u001b[39;00m:\n\u001b[0;32m    179\u001b[0m     \u001b[38;5;66;03m# we're accessing the attribute of the class, i.e., Dataset.geo\u001b[39;00m\n\u001b[0;32m    180\u001b[0m     \u001b[38;5;28;01mreturn\u001b[39;00m \u001b[38;5;28mself\u001b[39m\u001b[38;5;241m.\u001b[39m_accessor\n\u001b[1;32m--> 181\u001b[0m accessor_obj \u001b[38;5;241m=\u001b[39m \u001b[38;5;28;43mself\u001b[39;49m\u001b[38;5;241;43m.\u001b[39;49m\u001b[43m_accessor\u001b[49m\u001b[43m(\u001b[49m\u001b[43mobj\u001b[49m\u001b[43m)\u001b[49m\n\u001b[0;32m    182\u001b[0m \u001b[38;5;66;03m# Replace the property with the accessor object. Inspired by:\u001b[39;00m\n\u001b[0;32m    183\u001b[0m \u001b[38;5;66;03m# https://www.pydanny.com/cached-property.html\u001b[39;00m\n\u001b[0;32m    184\u001b[0m \u001b[38;5;66;03m# We need to use object.__setattr__ because we overwrite __setattr__ on\u001b[39;00m\n\u001b[0;32m    185\u001b[0m \u001b[38;5;66;03m# NDFrame\u001b[39;00m\n\u001b[0;32m    186\u001b[0m \u001b[38;5;28mobject\u001b[39m\u001b[38;5;241m.\u001b[39m\u001b[38;5;21m__setattr__\u001b[39m(obj, \u001b[38;5;28mself\u001b[39m\u001b[38;5;241m.\u001b[39m_name, accessor_obj)\n",
      "File \u001b[1;32m~\\AppData\\Local\\Programs\\Python\\Python39\\lib\\site-packages\\pandas\\core\\indexes\\accessors.py:506\u001b[0m, in \u001b[0;36mCombinedDatetimelikeProperties.__new__\u001b[1;34m(cls, data)\u001b[0m\n\u001b[0;32m    503\u001b[0m \u001b[38;5;28;01melif\u001b[39;00m is_period_dtype(data\u001b[38;5;241m.\u001b[39mdtype):\n\u001b[0;32m    504\u001b[0m     \u001b[38;5;28;01mreturn\u001b[39;00m PeriodProperties(data, orig)\n\u001b[1;32m--> 506\u001b[0m \u001b[38;5;28;01mraise\u001b[39;00m \u001b[38;5;167;01mAttributeError\u001b[39;00m(\u001b[38;5;124m\"\u001b[39m\u001b[38;5;124mCan only use .dt accessor with datetimelike values\u001b[39m\u001b[38;5;124m\"\u001b[39m)\n",
      "\u001b[1;31mAttributeError\u001b[0m: Can only use .dt accessor with datetimelike values"
     ]
    }
   ],
   "source": [
    "data['Release Date'] = data['ReleaseDateUS'].dt.strftime('%Y-%m-%d')\n",
    "# Python datetime format code: %m is the month number\n",
    "# release_average = data.groupby(['Release Date'])"
   ]
  },
  {
   "cell_type": "markdown",
   "id": "8aeb4582",
   "metadata": {},
   "source": [
    "## Which distributor released more movies?"
   ]
  },
  {
   "cell_type": "code",
   "execution_count": 116,
   "id": "6213b5cd",
   "metadata": {},
   "outputs": [
    {
     "data": {
      "text/html": [
       "<div>\n",
       "<style scoped>\n",
       "    .dataframe tbody tr th:only-of-type {\n",
       "        vertical-align: middle;\n",
       "    }\n",
       "\n",
       "    .dataframe tbody tr th {\n",
       "        vertical-align: top;\n",
       "    }\n",
       "\n",
       "    .dataframe thead th {\n",
       "        text-align: right;\n",
       "    }\n",
       "</style>\n",
       "<table border=\"1\" class=\"dataframe\">\n",
       "  <thead>\n",
       "    <tr style=\"text-align: right;\">\n",
       "      <th></th>\n",
       "      <th>Title</th>\n",
       "      <th>Distributor</th>\n",
       "    </tr>\n",
       "  </thead>\n",
       "  <tbody>\n",
       "    <tr>\n",
       "      <th>0</th>\n",
       "      <td>Howard the Duck</td>\n",
       "      <td>Universal Pictures</td>\n",
       "    </tr>\n",
       "    <tr>\n",
       "      <th>1</th>\n",
       "      <td>Blade</td>\n",
       "      <td>New Line Cinema</td>\n",
       "    </tr>\n",
       "    <tr>\n",
       "      <th>2</th>\n",
       "      <td>X-Men</td>\n",
       "      <td>20th Century Fox</td>\n",
       "    </tr>\n",
       "    <tr>\n",
       "      <th>3</th>\n",
       "      <td>Blade II</td>\n",
       "      <td>New Line Cinema</td>\n",
       "    </tr>\n",
       "    <tr>\n",
       "      <th>4</th>\n",
       "      <td>Spider-Man</td>\n",
       "      <td>Sony Pictures</td>\n",
       "    </tr>\n",
       "    <tr>\n",
       "      <th>...</th>\n",
       "      <td>...</td>\n",
       "      <td>...</td>\n",
       "    </tr>\n",
       "    <tr>\n",
       "      <th>59</th>\n",
       "      <td>Black Widow</td>\n",
       "      <td>Walt Disney Studios Motion Pictures</td>\n",
       "    </tr>\n",
       "    <tr>\n",
       "      <th>60</th>\n",
       "      <td>Shang-Chi and the Legend of the Ten Rings</td>\n",
       "      <td>Walt Disney Studios Motion Pictures</td>\n",
       "    </tr>\n",
       "    <tr>\n",
       "      <th>61</th>\n",
       "      <td>Venom: Let There Be Carnage</td>\n",
       "      <td>Sony Pictures</td>\n",
       "    </tr>\n",
       "    <tr>\n",
       "      <th>62</th>\n",
       "      <td>Eternals</td>\n",
       "      <td>Walt Disney Studios Motion Pictures</td>\n",
       "    </tr>\n",
       "    <tr>\n",
       "      <th>63</th>\n",
       "      <td>Spider-Man: No Way Home</td>\n",
       "      <td>Sony Pictures</td>\n",
       "    </tr>\n",
       "  </tbody>\n",
       "</table>\n",
       "<p>64 rows × 2 columns</p>\n",
       "</div>"
      ],
      "text/plain": [
       "                                        Title  \\\n",
       "0                             Howard the Duck   \n",
       "1                                       Blade   \n",
       "2                                       X-Men   \n",
       "3                                    Blade II   \n",
       "4                                  Spider-Man   \n",
       "..                                        ...   \n",
       "59                                Black Widow   \n",
       "60  Shang-Chi and the Legend of the Ten Rings   \n",
       "61                Venom: Let There Be Carnage   \n",
       "62                                   Eternals   \n",
       "63                    Spider-Man: No Way Home   \n",
       "\n",
       "                            Distributor  \n",
       "0                    Universal Pictures  \n",
       "1                       New Line Cinema  \n",
       "2                      20th Century Fox  \n",
       "3                       New Line Cinema  \n",
       "4                         Sony Pictures  \n",
       "..                                  ...  \n",
       "59  Walt Disney Studios Motion Pictures  \n",
       "60  Walt Disney Studios Motion Pictures  \n",
       "61                        Sony Pictures  \n",
       "62  Walt Disney Studios Motion Pictures  \n",
       "63                        Sony Pictures  \n",
       "\n",
       "[64 rows x 2 columns]"
      ]
     },
     "execution_count": 116,
     "metadata": {},
     "output_type": "execute_result"
    }
   ],
   "source": [
    "data[['Title','Distributor']]"
   ]
  },
  {
   "cell_type": "code",
   "execution_count": 117,
   "id": "f5b35a42",
   "metadata": {},
   "outputs": [
    {
     "name": "stdout",
     "output_type": "stream",
     "text": [
      "Index(['20th Century Fox', '20th Century Studios', 'IMAX Entertainment',\n",
      "       'Lionsgate Films', 'New Line Cinema', 'Paramount Pictures',\n",
      "       'Sony Pictures', 'Universal Pictures',\n",
      "       'Walt Disney Studios Motion Pictures'],\n",
      "      dtype='object', name='Distributor')\n"
     ]
    },
    {
     "data": {
      "text/plain": [
       "17"
      ]
     },
     "execution_count": 117,
     "metadata": {},
     "output_type": "execute_result"
    }
   ],
   "source": [
    "distributor = data.groupby(['Distributor']).count()\n",
    "print(distributor.index)\n",
    "distributor['Title'][0]\n",
    "# print('2:', data['Title'])"
   ]
  },
  {
   "cell_type": "code",
   "execution_count": 118,
   "id": "e9a61554",
   "metadata": {},
   "outputs": [
    {
     "data": {
      "text/plain": [
       "<BarContainer object of 9 artists>"
      ]
     },
     "execution_count": 118,
     "metadata": {},
     "output_type": "execute_result"
    },
    {
     "data": {
      "image/png": "[encoded data removed]",
      "text/plain": [
       "<Figure size 1800x360 with 1 Axes>"
      ]
     },
     "metadata": {
      "needs_background": "light"
     },
     "output_type": "display_data"
    }
   ],
   "source": [
    "plt.figure(figsize = (25,5))\n",
    "plt.bar(distributor.index, distributor[\"Title\"])"
   ]
  },
  {
   "cell_type": "code",
   "execution_count": 119,
   "id": "d4b523a0",
   "metadata": {},
   "outputs": [
    {
     "name": "stdout",
     "output_type": "stream",
     "text": [
      "20th Century Fox :  68514329.76470588\n",
      "20th Century Studios :  7037017.0\n",
      "IMAX Entertainment :  1500000.0\n",
      "Lionsgate Films :  9052989.0\n",
      "New Line Cinema :  21887714.333333332\n",
      "Paramount Pictures :  89380752.5\n",
      "Sony Pictures :  96202436.92307693\n",
      "Universal Pictures :  40870868.666666664\n",
      "Walt Disney Studios Motion Pictures :  139083503.7\n"
     ]
    }
   ],
   "source": [
    "for i in range(len(distributor.index)):\n",
    "    avg = data[(data['Distributor'] == str(distributor.index[i]))]['OpeningWeekendNorthAmerica'].mean()\n",
    "    print(distributor.index[i], ': ', avg)"
   ]
  },
  {
   "cell_type": "markdown",
   "id": "289fdeff",
   "metadata": {},
   "source": [
    "## Average Revenue Collected by each Distributor on the Opening Weekend in USA"
   ]
  },
  {
   "cell_type": "code",
   "execution_count": 120,
   "id": "964fe2c5",
   "metadata": {},
   "outputs": [
    {
     "data": {
      "text/plain": [
       "<BarContainer object of 9 artists>"
      ]
     },
     "execution_count": 120,
     "metadata": {},
     "output_type": "execute_result"
    },
    {
     "data": {
      "image/png": "[encoded data removed]",
      "text/plain": [
       "<Figure size 1800x360 with 1 Axes>"
      ]
     },
     "metadata": {
      "needs_background": "light"
     },
     "output_type": "display_data"
    }
   ],
   "source": [
    "open_week_us = data.groupby(['Distributor'])['OpeningWeekendNorthAmerica'].mean()\n",
    "plt.figure(figsize = (25,5))\n",
    "plt.bar(open_week_us.index, open_week_us)"
   ]
  },
  {
   "cell_type": "code",
   "execution_count": 121,
   "id": "ea343a62",
   "metadata": {},
   "outputs": [
    {
     "data": {
      "text/plain": [
       "Distributor\n",
       "20th Century Fox                       6.851433e+07\n",
       "20th Century Studios                   7.037017e+06\n",
       "IMAX Entertainment                     1.500000e+06\n",
       "Lionsgate Films                        9.052989e+06\n",
       "New Line Cinema                        2.188771e+07\n",
       "Paramount Pictures                     8.938075e+07\n",
       "Sony Pictures                          9.620244e+07\n",
       "Universal Pictures                     4.087087e+07\n",
       "Walt Disney Studios Motion Pictures    1.390835e+08\n",
       "Name: OpeningWeekendNorthAmerica, dtype: float64"
      ]
     },
     "execution_count": 121,
     "metadata": {},
     "output_type": "execute_result"
    }
   ],
   "source": [
    "open_week_us"
   ]
  },
  {
   "cell_type": "markdown",
   "id": "662dde22",
   "metadata": {},
   "source": [
    "## Average Revenue Generated by each Distributor from North America"
   ]
  },
  {
   "cell_type": "code",
   "execution_count": 122,
   "id": "084317c8",
   "metadata": {},
   "outputs": [
    {
     "data": {
      "text/plain": [
       "<BarContainer object of 9 artists>"
      ]
     },
     "execution_count": 122,
     "metadata": {},
     "output_type": "execute_result"
    },
    {
     "data": {
      "image/png": "[encoded data removed]",
      "text/plain": [
       "<Figure size 1800x360 with 1 Axes>"
      ]
     },
     "metadata": {
      "needs_background": "light"
     },
     "output_type": "display_data"
    }
   ],
   "source": [
    "rev_na = data.groupby(['Distributor'])['NorthAmerica'].mean()\n",
    "plt.figure(figsize = (25,5))\n",
    "plt.bar(rev_na.index, rev_na)"
   ]
  },
  {
   "cell_type": "code",
   "execution_count": 123,
   "id": "eb4396fd",
   "metadata": {},
   "outputs": [
    {
     "data": {
      "text/plain": [
       "Distributor\n",
       "20th Century Fox                       1.708407e+08\n",
       "20th Century Studios                   2.385557e+07\n",
       "IMAX Entertainment                     1.521787e+06\n",
       "Lionsgate Films                        2.093058e+07\n",
       "New Line Cinema                        6.828265e+07\n",
       "Paramount Pictures                     2.471326e+08\n",
       "Sony Pictures                          2.975956e+08\n",
       "Universal Pictures                     9.442664e+07\n",
       "Walt Disney Studios Motion Pictures    3.746401e+08\n",
       "Name: NorthAmerica, dtype: float64"
      ]
     },
     "execution_count": 123,
     "metadata": {},
     "output_type": "execute_result"
    }
   ],
   "source": [
    "rev_na"
   ]
  },
  {
   "cell_type": "markdown",
   "id": "8d253751",
   "metadata": {},
   "source": [
    "## Average Revenue Generated by each Distributor from Other Territories"
   ]
  },
  {
   "cell_type": "code",
   "execution_count": 125,
   "id": "ec7af635",
   "metadata": {},
   "outputs": [
    {
     "data": {
      "text/plain": [
       "<BarContainer object of 9 artists>"
      ]
     },
     "execution_count": 125,
     "metadata": {},
     "output_type": "execute_result"
    },
    {
     "data": {
      "image/png": "[encoded data removed]",
      "text/plain": [
       "<Figure size 1800x360 with 1 Axes>"
      ]
     },
     "metadata": {
      "needs_background": "light"
     },
     "output_type": "display_data"
    }
   ],
   "source": [
    "rev_terri = data.groupby(['Distributor'])['OtherTerritories'].mean()\n",
    "plt.figure(figsize = (25,5))\n",
    "plt.bar(rev_terri.index, rev_terri)"
   ]
  },
  {
   "cell_type": "code",
   "execution_count": 126,
   "id": "406b4958",
   "metadata": {},
   "outputs": [
    {
     "data": {
      "text/plain": [
       "Distributor\n",
       "20th Century Fox                       2.450623e+08\n",
       "20th Century Studios                   2.481950e+07\n",
       "IMAX Entertainment                     1.330495e+06\n",
       "Lionsgate Films                        1.146949e+07\n",
       "New Line Cinema                        7.008366e+07\n",
       "Paramount Pictures                     2.601183e+08\n",
       "Sony Pictures                          4.660114e+08\n",
       "Universal Pictures                     8.782363e+07\n",
       "Walt Disney Studios Motion Pictures    6.330361e+08\n",
       "Name: OtherTerritories, dtype: float64"
      ]
     },
     "execution_count": 126,
     "metadata": {},
     "output_type": "execute_result"
    }
   ],
   "source": [
    "rev_terri"
   ]
  },
  {
   "cell_type": "markdown",
   "id": "708e0812",
   "metadata": {},
   "source": [
    "## Average Revenue Generated by each Distributor from the World"
   ]
  },
  {
   "cell_type": "code",
   "execution_count": 128,
   "id": "6dafdfd9",
   "metadata": {},
   "outputs": [
    {
     "data": {
      "text/plain": [
       "<BarContainer object of 9 artists>"
      ]
     },
     "execution_count": 128,
     "metadata": {},
     "output_type": "execute_result"
    },
    {
     "data": {
      "image/png": "[encoded data removed]",
      "text/plain": [
       "<Figure size 1800x360 with 1 Axes>"
      ]
     },
     "metadata": {
      "needs_background": "light"
     },
     "output_type": "display_data"
    }
   ],
   "source": [
    "rev_world = data.groupby(['Distributor'])['Worldwide'].mean()\n",
    "plt.figure(figsize = (25,5))\n",
    "plt.bar(rev_world.index, rev_world)"
   ]
  },
  {
   "cell_type": "code",
   "execution_count": 129,
   "id": "869917cf",
   "metadata": {},
   "outputs": [
    {
     "data": {
      "text/plain": [
       "Distributor\n",
       "20th Century Fox                       4.159034e+08\n",
       "20th Century Studios                   4.867507e+07\n",
       "IMAX Entertainment                     2.852282e+06\n",
       "Lionsgate Films                        3.240007e+07\n",
       "New Line Cinema                        1.383663e+08\n",
       "Paramount Pictures                     5.072510e+08\n",
       "Sony Pictures                          7.636070e+08\n",
       "Universal Pictures                     1.822503e+08\n",
       "Walt Disney Studios Motion Pictures    1.007753e+09\n",
       "Name: Worldwide, dtype: float64"
      ]
     },
     "execution_count": 129,
     "metadata": {},
     "output_type": "execute_result"
    }
   ],
   "source": [
    "rev_world"
   ]
  },
  {
   "cell_type": "code",
   "execution_count": null,
   "id": "c0626be3",
   "metadata": {},
   "outputs": [],
   "source": []
  }
 ],
 "metadata": {
  "kernelspec": {
   "display_name": "Python 3 (ipykernel)",
   "language": "python",
   "name": "python3"
  },
  "language_info": {
   "codemirror_mode": {
    "name": "ipython",
    "version": 3
   },
   "file_extension": ".py",
   "mimetype": "text/x-python",
   "name": "python",
   "nbconvert_exporter": "python",
   "pygments_lexer": "ipython3",
   "version": "3.9.8"
  }
 },
 "nbformat": 4,
 "nbformat_minor": 5
}
